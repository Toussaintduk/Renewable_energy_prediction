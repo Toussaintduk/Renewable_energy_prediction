{
  "nbformat": 4,
  "nbformat_minor": 0,
  "metadata": {
    "colab": {
      "provenance": [],
      "include_colab_link": true
    },
    "kernelspec": {
      "name": "python3",
      "display_name": "Python 3"
    },
    "language_info": {
      "name": "python"
    }
  },
  "cells": [
    {
      "cell_type": "markdown",
      "metadata": {
        "id": "view-in-github",
        "colab_type": "text"
      },
      "source": [
        "<a href=\"https://colab.research.google.com/github/Toussaintduk/Renewable_energy_prediction/blob/main/Renewable_energy_analysis_.ipynb\" target=\"_parent\"><img src=\"https://colab.research.google.com/assets/colab-badge.svg\" alt=\"Open In Colab\"/></a>"
      ]
    },
    {
      "cell_type": "markdown",
      "source": [
        "Renewable energy access Analysis\n",
        "through Dataset from Kaggle\n",
        "<a href = https://www.kaggle.com/datasets/belayethossainds/renewable-energy-world-wide-19652022> Kaggle dataset"
      ],
      "metadata": {
        "id": "XZKMYeV00nm_"
      }
    },
    {
      "cell_type": "code",
      "source": [
        "# import necessary Libary\n",
        "import pandas as pd\n",
        "import numpy as np\n",
        "import os\n",
        "import matplotlib.pyplot as plt\n",
        "import seaborn as sns\n"
      ],
      "metadata": {
        "id": "-ETcHuXp2RtQ"
      },
      "execution_count": 4,
      "outputs": []
    },
    {
      "cell_type": "markdown",
      "source": [
        "Loading data from Kaggle"
      ],
      "metadata": {
        "id": "7Zj7y3E61H9H"
      }
    },
    {
      "cell_type": "code",
      "source": [
        "from google.colab import drive\n",
        "drive.mount('/content/drive')\n",
        "\n",
        "path = \"/content/drive/MyDrive/Colab Notebooks/data/02 modern-renewable-energy-consumption.csv\"\n",
        "df = pd.read_csv(path, encoding='utf-8')\n",
        "\n"
      ],
      "metadata": {
        "colab": {
          "base_uri": "https://localhost:8080/",
          "height": 371
        },
        "id": "a5xyv_dP2Eta",
        "outputId": "5e1da7f8-d257-438e-a330-de3024324737"
      },
      "execution_count": 12,
      "outputs": [
        {
          "output_type": "stream",
          "name": "stdout",
          "text": [
            "Drive already mounted at /content/drive; to attempt to forcibly remount, call drive.mount(\"/content/drive\", force_remount=True).\n"
          ]
        },
        {
          "output_type": "error",
          "ename": "FileNotFoundError",
          "evalue": "[Errno 2] No such file or directory: '/content/drive/MyDrive/Colab Notebooks/data/02 modern-renewable-energy-consumption.csv'",
          "traceback": [
            "\u001b[0;31m---------------------------------------------------------------------------\u001b[0m",
            "\u001b[0;31mFileNotFoundError\u001b[0m                         Traceback (most recent call last)",
            "\u001b[0;32m<ipython-input-12-efd04e37a267>\u001b[0m in \u001b[0;36m<cell line: 5>\u001b[0;34m()\u001b[0m\n\u001b[1;32m      3\u001b[0m \u001b[0;34m\u001b[0m\u001b[0m\n\u001b[1;32m      4\u001b[0m \u001b[0mpath\u001b[0m \u001b[0;34m=\u001b[0m \u001b[0;34m\"/content/drive/MyDrive/Colab Notebooks/data/02 modern-renewable-energy-consumption.csv\"\u001b[0m\u001b[0;34m\u001b[0m\u001b[0;34m\u001b[0m\u001b[0m\n\u001b[0;32m----> 5\u001b[0;31m \u001b[0mdf\u001b[0m \u001b[0;34m=\u001b[0m \u001b[0mpd\u001b[0m\u001b[0;34m.\u001b[0m\u001b[0mread_csv\u001b[0m\u001b[0;34m(\u001b[0m\u001b[0mpath\u001b[0m\u001b[0;34m,\u001b[0m \u001b[0mencoding\u001b[0m\u001b[0;34m=\u001b[0m\u001b[0;34m'utf-8'\u001b[0m\u001b[0;34m)\u001b[0m\u001b[0;34m\u001b[0m\u001b[0;34m\u001b[0m\u001b[0m\n\u001b[0m\u001b[1;32m      6\u001b[0m \u001b[0;34m\u001b[0m\u001b[0m\n",
            "\u001b[0;32m/usr/local/lib/python3.10/dist-packages/pandas/io/parsers/readers.py\u001b[0m in \u001b[0;36mread_csv\u001b[0;34m(filepath_or_buffer, sep, delimiter, header, names, index_col, usecols, dtype, engine, converters, true_values, false_values, skipinitialspace, skiprows, skipfooter, nrows, na_values, keep_default_na, na_filter, verbose, skip_blank_lines, parse_dates, infer_datetime_format, keep_date_col, date_parser, date_format, dayfirst, cache_dates, iterator, chunksize, compression, thousands, decimal, lineterminator, quotechar, quoting, doublequote, escapechar, comment, encoding, encoding_errors, dialect, on_bad_lines, delim_whitespace, low_memory, memory_map, float_precision, storage_options, dtype_backend)\u001b[0m\n\u001b[1;32m   1024\u001b[0m     \u001b[0mkwds\u001b[0m\u001b[0;34m.\u001b[0m\u001b[0mupdate\u001b[0m\u001b[0;34m(\u001b[0m\u001b[0mkwds_defaults\u001b[0m\u001b[0;34m)\u001b[0m\u001b[0;34m\u001b[0m\u001b[0;34m\u001b[0m\u001b[0m\n\u001b[1;32m   1025\u001b[0m \u001b[0;34m\u001b[0m\u001b[0m\n\u001b[0;32m-> 1026\u001b[0;31m     \u001b[0;32mreturn\u001b[0m \u001b[0m_read\u001b[0m\u001b[0;34m(\u001b[0m\u001b[0mfilepath_or_buffer\u001b[0m\u001b[0;34m,\u001b[0m \u001b[0mkwds\u001b[0m\u001b[0;34m)\u001b[0m\u001b[0;34m\u001b[0m\u001b[0;34m\u001b[0m\u001b[0m\n\u001b[0m\u001b[1;32m   1027\u001b[0m \u001b[0;34m\u001b[0m\u001b[0m\n\u001b[1;32m   1028\u001b[0m \u001b[0;34m\u001b[0m\u001b[0m\n",
            "\u001b[0;32m/usr/local/lib/python3.10/dist-packages/pandas/io/parsers/readers.py\u001b[0m in \u001b[0;36m_read\u001b[0;34m(filepath_or_buffer, kwds)\u001b[0m\n\u001b[1;32m    618\u001b[0m \u001b[0;34m\u001b[0m\u001b[0m\n\u001b[1;32m    619\u001b[0m     \u001b[0;31m# Create the parser.\u001b[0m\u001b[0;34m\u001b[0m\u001b[0;34m\u001b[0m\u001b[0m\n\u001b[0;32m--> 620\u001b[0;31m     \u001b[0mparser\u001b[0m \u001b[0;34m=\u001b[0m \u001b[0mTextFileReader\u001b[0m\u001b[0;34m(\u001b[0m\u001b[0mfilepath_or_buffer\u001b[0m\u001b[0;34m,\u001b[0m \u001b[0;34m**\u001b[0m\u001b[0mkwds\u001b[0m\u001b[0;34m)\u001b[0m\u001b[0;34m\u001b[0m\u001b[0;34m\u001b[0m\u001b[0m\n\u001b[0m\u001b[1;32m    621\u001b[0m \u001b[0;34m\u001b[0m\u001b[0m\n\u001b[1;32m    622\u001b[0m     \u001b[0;32mif\u001b[0m \u001b[0mchunksize\u001b[0m \u001b[0;32mor\u001b[0m \u001b[0miterator\u001b[0m\u001b[0;34m:\u001b[0m\u001b[0;34m\u001b[0m\u001b[0;34m\u001b[0m\u001b[0m\n",
            "\u001b[0;32m/usr/local/lib/python3.10/dist-packages/pandas/io/parsers/readers.py\u001b[0m in \u001b[0;36m__init__\u001b[0;34m(self, f, engine, **kwds)\u001b[0m\n\u001b[1;32m   1618\u001b[0m \u001b[0;34m\u001b[0m\u001b[0m\n\u001b[1;32m   1619\u001b[0m         \u001b[0mself\u001b[0m\u001b[0;34m.\u001b[0m\u001b[0mhandles\u001b[0m\u001b[0;34m:\u001b[0m \u001b[0mIOHandles\u001b[0m \u001b[0;34m|\u001b[0m \u001b[0;32mNone\u001b[0m \u001b[0;34m=\u001b[0m \u001b[0;32mNone\u001b[0m\u001b[0;34m\u001b[0m\u001b[0;34m\u001b[0m\u001b[0m\n\u001b[0;32m-> 1620\u001b[0;31m         \u001b[0mself\u001b[0m\u001b[0;34m.\u001b[0m\u001b[0m_engine\u001b[0m \u001b[0;34m=\u001b[0m \u001b[0mself\u001b[0m\u001b[0;34m.\u001b[0m\u001b[0m_make_engine\u001b[0m\u001b[0;34m(\u001b[0m\u001b[0mf\u001b[0m\u001b[0;34m,\u001b[0m \u001b[0mself\u001b[0m\u001b[0;34m.\u001b[0m\u001b[0mengine\u001b[0m\u001b[0;34m)\u001b[0m\u001b[0;34m\u001b[0m\u001b[0;34m\u001b[0m\u001b[0m\n\u001b[0m\u001b[1;32m   1621\u001b[0m \u001b[0;34m\u001b[0m\u001b[0m\n\u001b[1;32m   1622\u001b[0m     \u001b[0;32mdef\u001b[0m \u001b[0mclose\u001b[0m\u001b[0;34m(\u001b[0m\u001b[0mself\u001b[0m\u001b[0;34m)\u001b[0m \u001b[0;34m->\u001b[0m \u001b[0;32mNone\u001b[0m\u001b[0;34m:\u001b[0m\u001b[0;34m\u001b[0m\u001b[0;34m\u001b[0m\u001b[0m\n",
            "\u001b[0;32m/usr/local/lib/python3.10/dist-packages/pandas/io/parsers/readers.py\u001b[0m in \u001b[0;36m_make_engine\u001b[0;34m(self, f, engine)\u001b[0m\n\u001b[1;32m   1878\u001b[0m                 \u001b[0;32mif\u001b[0m \u001b[0;34m\"b\"\u001b[0m \u001b[0;32mnot\u001b[0m \u001b[0;32min\u001b[0m \u001b[0mmode\u001b[0m\u001b[0;34m:\u001b[0m\u001b[0;34m\u001b[0m\u001b[0;34m\u001b[0m\u001b[0m\n\u001b[1;32m   1879\u001b[0m                     \u001b[0mmode\u001b[0m \u001b[0;34m+=\u001b[0m \u001b[0;34m\"b\"\u001b[0m\u001b[0;34m\u001b[0m\u001b[0;34m\u001b[0m\u001b[0m\n\u001b[0;32m-> 1880\u001b[0;31m             self.handles = get_handle(\n\u001b[0m\u001b[1;32m   1881\u001b[0m                 \u001b[0mf\u001b[0m\u001b[0;34m,\u001b[0m\u001b[0;34m\u001b[0m\u001b[0;34m\u001b[0m\u001b[0m\n\u001b[1;32m   1882\u001b[0m                 \u001b[0mmode\u001b[0m\u001b[0;34m,\u001b[0m\u001b[0;34m\u001b[0m\u001b[0;34m\u001b[0m\u001b[0m\n",
            "\u001b[0;32m/usr/local/lib/python3.10/dist-packages/pandas/io/common.py\u001b[0m in \u001b[0;36mget_handle\u001b[0;34m(path_or_buf, mode, encoding, compression, memory_map, is_text, errors, storage_options)\u001b[0m\n\u001b[1;32m    880\u001b[0m         \u001b[0;32melse\u001b[0m\u001b[0;34m:\u001b[0m\u001b[0;34m\u001b[0m\u001b[0;34m\u001b[0m\u001b[0m\n\u001b[1;32m    881\u001b[0m             \u001b[0;31m# Binary mode\u001b[0m\u001b[0;34m\u001b[0m\u001b[0;34m\u001b[0m\u001b[0m\n\u001b[0;32m--> 882\u001b[0;31m             \u001b[0mhandle\u001b[0m \u001b[0;34m=\u001b[0m \u001b[0mopen\u001b[0m\u001b[0;34m(\u001b[0m\u001b[0mhandle\u001b[0m\u001b[0;34m,\u001b[0m \u001b[0mioargs\u001b[0m\u001b[0;34m.\u001b[0m\u001b[0mmode\u001b[0m\u001b[0;34m)\u001b[0m\u001b[0;34m\u001b[0m\u001b[0;34m\u001b[0m\u001b[0m\n\u001b[0m\u001b[1;32m    883\u001b[0m         \u001b[0mhandles\u001b[0m\u001b[0;34m.\u001b[0m\u001b[0mappend\u001b[0m\u001b[0;34m(\u001b[0m\u001b[0mhandle\u001b[0m\u001b[0;34m)\u001b[0m\u001b[0;34m\u001b[0m\u001b[0;34m\u001b[0m\u001b[0m\n\u001b[1;32m    884\u001b[0m \u001b[0;34m\u001b[0m\u001b[0m\n",
            "\u001b[0;31mFileNotFoundError\u001b[0m: [Errno 2] No such file or directory: '/content/drive/MyDrive/Colab Notebooks/data/02 modern-renewable-energy-consumption.csv'"
          ]
        }
      ]
    },
    {
      "cell_type": "code",
      "source": [
        "df.head()"
      ],
      "metadata": {
        "id": "Iap5XAqc_sJO"
      },
      "execution_count": null,
      "outputs": []
    },
    {
      "cell_type": "markdown",
      "source": [
        "Data Preprocessing"
      ],
      "metadata": {
        "id": "UwaXUrAB26Ga"
      }
    },
    {
      "cell_type": "code",
      "source": [
        "df.info()"
      ],
      "metadata": {
        "id": "P5FY3fpD1h3o"
      },
      "execution_count": null,
      "outputs": []
    },
    {
      "cell_type": "markdown",
      "source": [
        "## Rename Columns"
      ],
      "metadata": {
        "id": "lA7td9UwCeQP"
      }
    },
    {
      "cell_type": "code",
      "source": [
        "df.columns = df.columns.str.replace(' ', '_').str.replace('-', '_').str.lower()\n",
        "df.columns = df.columns.str.replace('__', '_')\n",
        "df.columns"
      ],
      "metadata": {
        "id": "lzTclKJGChsl"
      },
      "execution_count": null,
      "outputs": []
    },
    {
      "cell_type": "code",
      "source": [
        "# checking for dimension\n",
        "print(f\"  rows: {df.shape[0]}, columns: {df.shape[1]}\")"
      ],
      "metadata": {
        "id": "VG7JwP242_cq"
      },
      "execution_count": null,
      "outputs": []
    },
    {
      "cell_type": "markdown",
      "source": [
        "## cheking The Entity column"
      ],
      "metadata": {
        "id": "12BPAtJwOzqn"
      }
    },
    {
      "cell_type": "code",
      "source": [
        "df['entity'].unique()"
      ],
      "metadata": {
        "id": "j19PbOtnO6Xh"
      },
      "execution_count": null,
      "outputs": []
    },
    {
      "cell_type": "code",
      "source": [],
      "metadata": {
        "id": "3Zc34mHaPoBz"
      },
      "execution_count": null,
      "outputs": []
    },
    {
      "cell_type": "markdown",
      "source": [
        "in these entity there is some leading spaces,some  abbreavaition such as BP  ,\n",
        " and some inconsistent names such as world   to handle this use strip to remove the space  and mapping to get clearly entity for further analysis"
      ],
      "metadata": {
        "id": "a-sbkjHyPMgv"
      }
    },
    {
      "cell_type": "code",
      "source": [
        "df['entity'] = df['entity'].str.strip()\n",
        "\n",
        "#  Replace inconsistent names\n",
        "entity_mapping = {\n",
        "    'Africa (BP)': 'Africa',\n",
        "    'Asia Pacific (BP)': 'Asia Pacific',\n",
        "    'Europe (BP)': 'Europe',\n",
        "    'High-income countries': 'High-Income Countries',\n",
        "    'Lower-middle-income countries': 'Lower-Middle-Income Countries',\n",
        "    'Middle Africa (BP)': 'Middle Africa',\n",
        "    'Middle East (BP)': 'Middle East',\n",
        "    'Non-OECD (BP)': 'Non-OECD',\n",
        "    'OECD (BP)': 'OECD',\n",
        "    'South and Central America (BP)': 'South and Central America',\n",
        "    'Upper-middle-income countries': 'Upper-Middle-Income Countries',\n",
        "    'Western Africa (BP)': 'Western Africa',\n",
        "    'World': 'Global',  # Rename 'World' to 'Global' or filter it out\n",
        "    'USSR': 'Former Soviet Union'  # Example if needed for specific cases\n",
        "}\n",
        "\n",
        "df['entity'] = df['entity'].replace(entity_mapping)\n",
        "\n",
        "# Step 3: Optionally, filter out rows where 'entity' is not a country or region of interest\n",
        "# For example, removing 'World' or other aggregate regions\n",
        "df = df[~df['entity'].isin(['Global', 'World'])]\n"
      ],
      "metadata": {
        "id": "7sYuS204QFNn"
      },
      "execution_count": null,
      "outputs": []
    },
    {
      "cell_type": "code",
      "source": [
        "df['entity'].unique()"
      ],
      "metadata": {
        "id": "o8YCKIjSQdgJ"
      },
      "execution_count": null,
      "outputs": []
    },
    {
      "cell_type": "markdown",
      "source": [
        "### Checking Missing value"
      ],
      "metadata": {
        "id": "7oDmXkIWOoyB"
      }
    },
    {
      "cell_type": "code",
      "source": [
        "# checking missing values\n",
        "missing_val = df.isnull().sum()\n",
        "missing_perc = df.isnull().sum()/len(df)*100\n",
        "\n",
        "for col in df.columns:\n",
        "  if missing_val[col]> 0:\n",
        "    print(f\"{col} have missing Value of {missing_val[col]} at {missing_perc[col]:.2f}\")\n",
        "\n"
      ],
      "metadata": {
        "id": "pMDORoUf3amO"
      },
      "execution_count": null,
      "outputs": []
    },
    {
      "cell_type": "markdown",
      "source": [
        "let's start from Code Column"
      ],
      "metadata": {
        "id": "bwwaGW_aAhuQ"
      }
    },
    {
      "cell_type": "code",
      "source": [
        "# looking at missing code column\n",
        "df[df['code'].isnull()].head()"
      ],
      "metadata": {
        "id": "BfswcAZa4hx3"
      },
      "execution_count": null,
      "outputs": []
    },
    {
      "cell_type": "code",
      "source": [
        "df[df[\"code\"].isnull()][\"entity\"].unique()"
      ],
      "metadata": {
        "id": "eRDymwo45LiC"
      },
      "execution_count": null,
      "outputs": []
    },
    {
      "cell_type": "code",
      "source": [
        "# Drop missed value of Code since is notcomplicated  to make imputation and don't contibute alot in Further Analysis\n",
        "df =df.drop(\"code\",axis=1)\n",
        "# checking again\n",
        "df.head()"
      ],
      "metadata": {
        "id": "raF4jlNVAzkP"
      },
      "execution_count": null,
      "outputs": []
    },
    {
      "cell_type": "markdown",
      "source": [
        "handling Missing value of  geo_biomass_other_twh,solar_generation_twh\twind_generation_twh\thydro_generation_twh"
      ],
      "metadata": {
        "id": "8hn9gA9BBr-h"
      }
    },
    {
      "cell_type": "code",
      "source": [
        "# since it is few missed value, it can be drop the column\n",
        "\n",
        "df = df.dropna(subset=['geo_biomass_other_twh','solar_generation_twh','wind_generation_twh','hydro_generation_twh'])"
      ],
      "metadata": {
        "id": "6D9kEPXiE9YJ"
      },
      "execution_count": null,
      "outputs": []
    },
    {
      "cell_type": "code",
      "source": [
        "# to check df again\n",
        "if df.isnull().sum().max() == 0 :\n",
        "  print(\"No missed value !\")"
      ],
      "metadata": {
        "id": "-O9t6JnCGIu5"
      },
      "execution_count": null,
      "outputs": []
    },
    {
      "cell_type": "code",
      "source": [
        "# checking for duplicates\n",
        "df.duplicated().sum()"
      ],
      "metadata": {
        "id": "IIsYjCqP3ps4"
      },
      "execution_count": null,
      "outputs": []
    },
    {
      "cell_type": "markdown",
      "source": [
        "Make Total Energy used in year"
      ],
      "metadata": {
        "id": "Qkdb2C6iJ9Bw"
      }
    },
    {
      "cell_type": "code",
      "source": [
        "df['total_energy'] = df['geo_biomass_other_twh'] + df['solar_generation_twh'] + df['wind_generation_twh'] + df['hydro_generation_twh']\n",
        "df.head()"
      ],
      "metadata": {
        "id": "leQYCIAMKBco"
      },
      "execution_count": null,
      "outputs": []
    },
    {
      "cell_type": "markdown",
      "source": [
        "## Explatory Data Analysis"
      ],
      "metadata": {
        "id": "r0S6YPCSGjoE"
      }
    },
    {
      "cell_type": "code",
      "source": [
        "df.describe()"
      ],
      "metadata": {
        "id": "YxOa_YGJ3t8T"
      },
      "execution_count": null,
      "outputs": []
    },
    {
      "cell_type": "code",
      "source": [
        "# distrubution of data  for numerical columns\n",
        "\n",
        "#  numerical columns\n",
        "num_columns = df.select_dtypes(include=['float64', 'int64']).columns\n",
        "\n",
        "# Plot histograms for all numerical columns\n",
        "df[num_columns].hist(figsize=(12, 10), bins=30, edgecolor='black')\n",
        "plt.tight_layout()\n",
        "plt.show()"
      ],
      "metadata": {
        "id": "i-Gjx1r_GpqJ"
      },
      "execution_count": null,
      "outputs": []
    },
    {
      "cell_type": "code",
      "source": [
        "# correlation in features\n",
        "correlation_matrix = df[num_col].corr(method = 'pearson')\n",
        "\n",
        "correlation_matrix"
      ],
      "metadata": {
        "id": "PtcvINHDGxlT"
      },
      "execution_count": null,
      "outputs": []
    },
    {
      "cell_type": "code",
      "source": [
        "# Filter data for years from 2004 onwards\n",
        "df_filtered = df[df['year'] >= 2004]\n",
        "\n",
        "# Set up the figure for multiple plots\n",
        "plt.figure(figsize=(12, 8))\n",
        "\n",
        "# Define energy columns\n",
        "energy_columns = ['geo_biomass_other_twh', 'solar_generation_twh', 'wind_generation_twh', 'hydro_generation_twh']\n",
        "\n",
        "# Plot each energy type across years\n",
        "for i, col in enumerate(energy_columns, 1):\n",
        "    plt.subplot(2, 2, i)  # 2x2 grid for 4 energy types\n",
        "    sns.lineplot(data=df_filtered, x='year', y=col, marker='o')\n",
        "    plt.title(f'{col} Variance Over Years')\n",
        "    plt.xlabel('Year')\n",
        "    plt.ylabel(f'{col}')\n",
        "    plt.xticks(rotation=45)\n",
        "\n",
        "    # Ensure the x-axis shows years as integers (not decimals)\n",
        "    plt.gca().xaxis.set_major_formatter(plt.FuncFormatter(lambda x, _: f'{int(x)}'))\n",
        "\n",
        "# Add a title for the entire figure\n",
        "plt.suptitle('Energy Generation Variance Over Years (2004 and Beyond)', fontsize=16, fontweight='bold')\n",
        "\n",
        "# Adjust layout to make space for the main title\n",
        "plt.tight_layout(rect=[0, 0, 1, 0.96])  # Adjust layout to avoid overlap with title\n",
        "plt.show()"
      ],
      "metadata": {
        "id": "i0MhD3LIJMpJ"
      },
      "execution_count": null,
      "outputs": []
    },
    {
      "cell_type": "code",
      "source": [],
      "metadata": {
        "id": "9f403KZTLEUZ"
      },
      "execution_count": null,
      "outputs": []
    },
    {
      "cell_type": "code",
      "source": [
        "entities = df['entity'].unique()  # Get all unique entities\n",
        "\n",
        "num_entities = len(entities)\n",
        "nrows = math.ceil(num_entities / 4)  # Calculate number of rows for subplots\n",
        "\n",
        "# Create the figure and axes\n",
        "fig, axes = plt.subplots(nrows=nrows, ncols=4, figsize=(20, 5 * nrows), sharex=True)\n",
        "axes = axes.flatten()\n",
        "\n",
        "# Define colors for each energy type for consistency\n",
        "energy_colors = {\n",
        "    'geo_biomass_other_twh': 'red',\n",
        "    'solar_generation_twh': 'black',\n",
        "    'wind_generation_twh': 'blue',\n",
        "    'hydro_generation_twh': 'green',\n",
        "\n",
        "}\n",
        "\n",
        "# Loop through each entity and plot data\n",
        "for i, entity in enumerate(entities):\n",
        "    entity_data = df[df['entity'] == entity].sort_values('year')\n",
        "\n",
        "    # Plot each energy form with corresponding color\n",
        "    for energy_form, color in energy_colors.items():\n",
        "        axes[i].plot(entity_data['year'], entity_data[energy_form], color=color, label=energy_form)\n",
        "\n",
        "    axes[i].set_title(f'Renewable Energy for {entity}', fontsize=12)\n",
        "    axes[i].set_ylabel('Power Generation (TWh)', fontsize=10)\n",
        "    axes[i].set_xlabel('Year', fontsize=10)\n",
        "    axes[i].set_ylim(0, 2000)  # Adjust y-axis range for better visualization\n",
        "    axes[i].grid(True)\n",
        "\n",
        "    # Add a legend for each plot\n",
        "    axes[i].legend(loc='upper left', fontsize=8)\n",
        "\n",
        "# Remove extra subplots if there are fewer entities than the number of axes\n",
        "for j in range(len(entities), len(axes)):\n",
        "    fig.delaxes(axes[j])\n",
        "\n",
        "# Adjust the layout for better spacing and clarity\n",
        "plt.tight_layout()\n",
        "\n",
        "# Show the plot\n",
        "plt.show()"
      ],
      "metadata": {
        "id": "tz6WSi8AMx7X"
      },
      "execution_count": null,
      "outputs": []
    },
    {
      "cell_type": "code",
      "source": [
        "df['year'].max(),df['year'].min()"
      ],
      "metadata": {
        "id": "mJKfINR3M_HB"
      },
      "execution_count": null,
      "outputs": []
    },
    {
      "cell_type": "code",
      "source": [],
      "metadata": {
        "id": "S_5w1qCkUF1_"
      },
      "execution_count": null,
      "outputs": []
    }
  ]
}